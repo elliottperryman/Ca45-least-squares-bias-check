{
 "cells": [
  {
   "cell_type": "markdown",
   "metadata": {},
   "source": [
    "## David Perryman - Jan 6"
   ]
  },
  {
   "cell_type": "markdown",
   "metadata": {},
   "source": [
    "## Setup"
   ]
  },
  {
   "cell_type": "code",
   "execution_count": 1,
   "metadata": {},
   "outputs": [
    {
     "name": "stdout",
     "output_type": "stream",
     "text": [
      "Populating the interactive namespace from numpy and matplotlib\n"
     ]
    }
   ],
   "source": [
    "%pylab inline"
   ]
  },
  {
   "cell_type": "code",
   "execution_count": 2,
   "metadata": {},
   "outputs": [],
   "source": [
    "wavelen=3500\n",
    "test_size = int(1e4)\n",
    "energy=1000\n",
    "osc_sizes = [0., 0.1*energy,0.2*energy,0.3*energy,0.4*energy]\n",
    "noise_rms = 20.\n",
    "noise = random.normal(loc=0., scale=noise_rms, size=(5,test_size,wavelen))\n",
    "phases = random.random_sample((5,test_size))\n",
    "phases = phases*2*pi\n",
    "freq = 1./(wavelen)"
   ]
  },
  {
   "cell_type": "markdown",
   "metadata": {},
   "source": [
    "### Porting Aaron's pulsegen code over to Python"
   ]
  },
  {
   "cell_type": "code",
   "execution_count": 3,
   "metadata": {},
   "outputs": [],
   "source": [
    "def Box_Muller():\n",
    "    return random.normal(loc=0., scale=1)"
   ]
  },
  {
   "cell_type": "code",
   "execution_count": 4,
   "metadata": {},
   "outputs": [],
   "source": [
    "def gen_pulse(T0, amp, random=True):\n",
    "    wf = empty(wavelen)\n",
    "    # added this in to generate const. rise time pulsees\n",
    "    if random:\n",
    "        cc_slow = 2.5+0.4*Box_Muller(); cc_slow=cc_slow/(cc_slow+1); #charge collection slow time constant\n",
    "    else:\n",
    "        cc_slow = 2.5; cc_slow=cc_slow/(cc_slow+1); #charge collection slow time constant\n",
    "        \n",
    "    cc_fast = 1./2.5; #charge collection fast time constant\n",
    "    alpha_cr = 1250./(1250.+1.); #fall time of output\n",
    "    alpha_rc1 = 1./2.75;\n",
    "    alpha_rc2 = 1./2.75;\n",
    "#    step[2]={0,0},charge[2]={0,0},cur_s[2]={0,0},cur_f[2]={0,0},cr[2]={0,0},rc1[2]={0,0},rc2[2]={0,0};\n",
    "    step=zeros(2);charge=zeros(2);cur_s=zeros(2);cur_f=zeros(2);cr=zeros(2);rc1=zeros(2);rc2=zeros(2);\n",
    "\n",
    "    #T0=1000;#1000+2.5*Box_Muller();\n",
    "    for i in range(wavelen):\n",
    "        if (i>=T0):\n",
    "            step[i%2]= 1.\n",
    "        else:\n",
    "            step[i%2]= 0.;\n",
    "            \n",
    "        cur_s[i%2]=cc_slow*(cur_s[(i+1)%2]+step[i%2]-step[(i+1)%2]);\n",
    "        cur_f[i%2]=cc_fast*(cur_s[i%2]-cur_f[(i+1)%2])+cur_f[(i+1)%2];\n",
    "        charge[i%2]=charge[(i+1)%2]+amp*cur_f[i%2]*(1./cc_slow-1.);\n",
    "        cr[i%2]=alpha_cr*(cr[(i+1)%2]+charge[i%2]-charge[(i+1)%2]);\n",
    "        rc1[i%2]=alpha_rc1*(cr[i%2]-rc1[(i+1)%2])+rc1[(i+1)%2];\n",
    "        rc2[i%2]=alpha_rc2*(rc1[i%2]-rc2[(i+1)%2])+rc2[(i+1)%2];\n",
    "        wf[i]=rc2[i%2];\n",
    "    return wf"
   ]
  },
  {
   "cell_type": "code",
   "execution_count": 5,
   "metadata": {},
   "outputs": [],
   "source": [
    "def fft_trapezoid(length, rise_time, flat_top , tau):\n",
    "    wavelen = length;\n",
    "    length = length+2*rise_time+flat_top;\n",
    "    p = zeros(length)\n",
    "    s = zeros(length)\n",
    "    input2 = zeros(length)\n",
    "    p[0] = s[0] = input2[0] = 0.;\n",
    "    for i in range(1,length):\n",
    "        input2[i] = s[i] = 0.;\n",
    "    input2[1]=1.;\n",
    "    tau = 1/(exp(1./tau)-1);\n",
    "    for i in range(1,length):\n",
    "        if i>=2*rise_time+flat_top:\n",
    "            d = input2[i]-input2[i-rise_time]-input2[i-rise_time-flat_top]+input2[i-2*rise_time-flat_top]\n",
    "        else:\n",
    "            if i>=rise_time+flat_top:\n",
    "                d = input2[i]-input2[i-rise_time]-input2[i-rise_time-flat_top]\n",
    "            else:\n",
    "                if i>=rise_time:\n",
    "                    d = input2[i]-input2[i-rise_time]\n",
    "                else:\n",
    "                    d = input2[i];\n",
    "        p[i] = p[i-1]+d;\n",
    "        s[i] = s[i-1]+p[i]+tau*d;\n",
    "    for i in range(length):\n",
    "        s[i] = s[i]/(rise_time*tau);\n",
    "    \n",
    "    res = fft.rfft(s)\n",
    "    return res[:-100]\n"
   ]
  },
  {
   "cell_type": "code",
   "execution_count": 6,
   "metadata": {},
   "outputs": [],
   "source": [
    "def find_max(data):\n",
    "    max_val=float('-inf')\n",
    "    max_i = 0.\n",
    "    for i,x in enumerate(data):\n",
    "        if x>max_val:\n",
    "            max_i = i\n",
    "            max_val = x\n",
    "    return max_val, max_i"
   ]
  },
  {
   "cell_type": "code",
   "execution_count": 7,
   "metadata": {},
   "outputs": [],
   "source": [
    "def find_T0(data):\n",
    "    trape = fft_trapezoid(3500, 100, 1 , 1250.)\n",
    "    trap_ = (fft.irfft(trape*(fft.rfft(data))))\n",
    "    #plot(trap_)\n",
    "    m,i = find_max(trap_)\n",
    "    return i-101"
   ]
  },
  {
   "cell_type": "code",
   "execution_count": 8,
   "metadata": {},
   "outputs": [],
   "source": [
    "def LS(wf, T0, freq):\n",
    "    # removes an oscillation and returns the energy of the waveform\n",
    "    A = zeros((3,wavelen))\n",
    "    A[0] = gen_pulse(T0,1.)\n",
    "    A[1] = sin(freq*t)\n",
    "    A[2] = cos(freq*t)\n",
    "    wf = matrix(wf).T\n",
    "    A = matrix(A).T\n",
    "    x = inv(A.T*A)*A.T*wf\n",
    "    M = eye(wavelen) - A*inv(A.T*A)*A.T\n",
    "    s2 = wf.T*M*wf/(wavelen-3)\n",
    "    errors = []\n",
    "    s2 = array(s2).flatten()[0]\n",
    "    for i in range(3):\n",
    "        errors.append(sqrt(s2*(array(inv(A.T*A))[i][i])))\n",
    "    return append(array(x).T.flatten()[0], errors[0])\n",
    "\n",
    "    "
   ]
  },
  {
   "cell_type": "markdown",
   "metadata": {},
   "source": [
    "### Generating Data"
   ]
  },
  {
   "cell_type": "code",
   "execution_count": null,
   "metadata": {},
   "outputs": [],
   "source": [
    "fixedT0Data = empty((5,test_size,wavelen))\n",
    "varT0Data = empty((5,test_size,wavelen))\n",
    "t = arange(3500)\n",
    "\n",
    "for j,osc_amp in enumerate(osc_sizes):\n",
    "    for i in range(test_size):\n",
    "        fixedT0Data[j][i] = gen_pulse(1000,energy) + noise[j][i] + osc_amp*sin(phases[j][i]+freq*t)\n",
    "        varT0Data[j][i] = gen_pulse(random.randint(900,1101),energy) + noise[j][i] + osc_amp*sin(phases[j][i]+freq*t)"
   ]
  },
  {
   "cell_type": "code",
   "execution_count": null,
   "metadata": {},
   "outputs": [],
   "source": [
    "plot(fixedT0Data[4][1])"
   ]
  },
  {
   "cell_type": "code",
   "execution_count": null,
   "metadata": {},
   "outputs": [],
   "source": [
    "plot(varT0Data[0][10])"
   ]
  },
  {
   "cell_type": "markdown",
   "metadata": {},
   "source": [
    "## Oscillation Amplitude Has No Effect On Fit Accuracy"
   ]
  },
  {
   "cell_type": "code",
   "execution_count": null,
   "metadata": {},
   "outputs": [],
   "source": [
    "results1 = empty((5,test_size,2))\n",
    "for i in range(5):\n",
    "    for j in range(test_size):\n",
    "        results1[i][j] = LS(fixedT0Data[i][j], 1000, freq)"
   ]
  },
  {
   "cell_type": "code",
   "execution_count": null,
   "metadata": {},
   "outputs": [],
   "source": [
    "fig = figure(figsize=(18,5))\n",
    "\n",
    "subplot(121)\n",
    "for i in range(5):\n",
    "    hist(results1[i][:,0], bins=int(1e2), histtype='step', label='Osc. Size: '+str(osc_sizes[i]));\n",
    "title('Results of Energy Fit')\n",
    "ylabel('Count')\n",
    "xlabel('Energy Returned')\n",
    "legend()\n",
    "\n",
    "subplot(122)\n",
    "for i in range(5):\n",
    "    hist(results1[i][:,1], bins=int(1e2), histtype='step', label='Osc. Size: '+str(osc_sizes[i]));\n",
    "title('Standard Errors of Energy Fit')\n",
    "ylabel('Count')\n",
    "xlabel('Standar Error of Energy')\n",
    "legend();\n",
    "\n",
    "savefig('res1.png')"
   ]
  },
  {
   "cell_type": "markdown",
   "metadata": {},
   "source": [
    "## Having to Find $T_0$ Does Not Significantly Increase Standard Error "
   ]
  },
  {
   "cell_type": "code",
   "execution_count": null,
   "metadata": {},
   "outputs": [],
   "source": [
    "results2 = empty((5,test_size,2))\n",
    "for i in range(5):\n",
    "    for j in range(test_size):\n",
    "        fit_t0 = find_T0(varT0Data[i][j])\n",
    "        results2[i][j] = LS(varT0Data[i][j], fit_t0, freq)"
   ]
  },
  {
   "cell_type": "code",
   "execution_count": null,
   "metadata": {},
   "outputs": [],
   "source": [
    "fig = figure(figsize=(18,5))\n",
    "\n",
    "subplot(121)\n",
    "for i in range(5):\n",
    "    hist(results2[i][:,0], bins=int(1e2), histtype='step', label='Osc. Size: '+str(osc_sizes[i]));\n",
    "title('Results of Energy Fit')\n",
    "ylabel('Count')\n",
    "xlabel('Energy Returned')\n",
    "legend()\n",
    "\n",
    "subplot(122)\n",
    "for i in range(5):\n",
    "    hist(results2[i][:,1], bins=int(1e2), histtype='step', label='Osc. Size: '+str(osc_sizes[i]));\n",
    "title('Standard Errors of Energy Fit')\n",
    "ylabel('Count')\n",
    "xlabel('Standard Error of Energy')\n",
    "legend();\n",
    "\n",
    "savefig('res2.png')"
   ]
  },
  {
   "cell_type": "markdown",
   "metadata": {},
   "source": [
    "## Overshooting and Undershooting the Frequency Does Not Introduce Bias"
   ]
  },
  {
   "cell_type": "code",
   "execution_count": null,
   "metadata": {},
   "outputs": [],
   "source": [
    "freq_offsets = array([[1.,1.01,1.05,1.1],[1.,0.99,0.95,0.9]])\n",
    "freq_offsets"
   ]
  },
  {
   "cell_type": "code",
   "execution_count": null,
   "metadata": {},
   "outputs": [],
   "source": [
    "results3 = empty((2,4,5,test_size,2))\n",
    "\n",
    "for i in range(2):\n",
    "    for j in range(4):\n",
    "        for k in range(5):\n",
    "            for l in range(test_size):\n",
    "                fit_t0 = find_T0(varT0Data[k][l])\n",
    "                results3[i][j][k][l] = LS(varT0Data[k][l], fit_t0, freq*freq_offsets[i][j])"
   ]
  },
  {
   "cell_type": "code",
   "execution_count": null,
   "metadata": {},
   "outputs": [],
   "source": [
    "fig = figure(figsize=(18,24))\n",
    "\n",
    "for i in range(4):\n",
    "    subplot(8,2,i*2+1)\n",
    "    for j in range(5):\n",
    "        hist(results3[0][i][j][:,0], bins=int(1e2), histtype='step', label='Osc. Size: '+str(osc_sizes[j]));\n",
    "    title('Energy From OverShooting by '+str(round((freq_offsets[0][i]-1.)*100))+' percent')\n",
    "    ylabel('Count')\n",
    "    xlabel('Energy Returned')\n",
    "    legend()\n",
    "\n",
    "for i in range(4):\n",
    "    subplot(8,2,(i+1)*2)\n",
    "    for j in range(5):\n",
    "        hist(results3[0][i][j][:,1], bins=int(1e2), histtype='step', label='Osc. Size: '+str(osc_sizes[j]));\n",
    "    title('Standard Error From OverShooting by '+str(round((freq_offsets[0][i]-1.)*100))+' percent')\n",
    "    ylabel('Count')\n",
    "    xlabel('Standard Error')\n",
    "    legend()\n",
    "\n",
    "subplots_adjust(hspace=1.)\n",
    "savefig('res3.png')"
   ]
  },
  {
   "cell_type": "code",
   "execution_count": null,
   "metadata": {},
   "outputs": [],
   "source": [
    "fig = figure(figsize=(20,30))\n",
    "\n",
    "for i in range(4):\n",
    "    subplot(8,2,i*2+1)\n",
    "    for j in range(5):\n",
    "        hist(results3[1][i][j][:,0], bins=int(1e2), histtype='step', label='Osc. Size: '+str(osc_sizes[j]));\n",
    "    title('Energy From underShooting by '+str(round(abs((freq_offsets[0][i]-1.)*100)))+' percent')\n",
    "    ylabel('Count')\n",
    "    xlabel('Energy Returned')\n",
    "    legend()\n",
    "\n",
    "for i in range(4):\n",
    "    subplot(8,2,(i+1)*2)\n",
    "    for j in range(5):\n",
    "        hist(results3[1][i][j][:,1], bins=int(1e2), histtype='step', label='Osc. Size: '+str(osc_sizes[j]));\n",
    "    title('Standard Error From UnderShooting by '+str(round(abs((freq_offsets[0][i]-1.)*100)))+' percent')\n",
    "    ylabel('Count')\n",
    "    xlabel('Standard Error')\n",
    "    legend()\n",
    "\n",
    "subplots_adjust(hspace=1.)\n",
    "savefig('res4.png')"
   ]
  },
  {
   "cell_type": "markdown",
   "metadata": {},
   "source": [
    "### Cool Matrices"
   ]
  },
  {
   "cell_type": "markdown",
   "metadata": {},
   "source": [
    "All the cool kids know that standard error is an estimate of the standard deviation and that the variance of a population is described by $\\Large {\\frac{\\sum_{i=0}^{N} y_i^2}{N}}$ for a sample of measurements $y_0,y_1,...,y_N$.\n",
    "\n",
    "But what if I told you that you could find estimate this using matrices and your population sample??\n",
    "\n",
    "If the data is approximated by $$ \n",
    "A x = y \\rightarrow \n",
    " \\begin{pmatrix}\n",
    "    \\vdots & \\vdots & \\vdots \\\\\n",
    "    f_{1} & f_2 & f_3 \\\\\n",
    "    \\vdots & \\vdots & \\vdots \\\\\n",
    "\\end{pmatrix} \n",
    "  \\begin {pmatrix}\n",
    "  x_{1} \\\\\n",
    "  x_{2}\\\\\n",
    "  x_{3} \n",
    "\\end {pmatrix} = \n",
    "  \\begin {pmatrix}\n",
    "  y_{1} \\\\\n",
    "  y_{2}\\\\\n",
    "  \\vdots\\\\\n",
    "  y_{m} \n",
    "\\end {pmatrix}\n",
    "$$ where $f_1$ is the designed pulse shape, $f_2$ is a sine curve and $f_3$ is a cosine.\n",
    "\n",
    "Then I could say that $ x=(A^{T} A)^{-1} A^{T} y$, and we could call the covariance matrix $ Q=(A^{T}A)^{-1}$. I can then phrase $ {\\frac{\\sum_{i=0}^{N} x_i^2}{N}}$ as $ (y - \\hat y)^T (y-\\hat y)$, which can be rearanged to yield $ \\hat \\sigma^2 = \\large \\frac{y(I - A (A^T A)^{-1} A^T)y}{N-d.o.f.}$\n",
    "\n",
    "This means that the estimate of the error in $f_1$ is $ \\sqrt {\\large \\frac{y(I - A (A^T A)^{-1} A^T)y}{N-d.o.f.} Q_{1,1}}$"
   ]
  },
  {
   "cell_type": "code",
   "execution_count": null,
   "metadata": {},
   "outputs": [],
   "source": []
  }
 ],
 "metadata": {
  "kernelspec": {
   "display_name": "Python 3",
   "language": "python",
   "name": "python3"
  },
  "language_info": {
   "codemirror_mode": {
    "name": "ipython",
    "version": 2
   },
   "file_extension": ".py",
   "mimetype": "text/x-python",
   "name": "python",
   "nbconvert_exporter": "python",
   "pygments_lexer": "ipython2",
   "version": "2.7.15"
  }
 },
 "nbformat": 4,
 "nbformat_minor": 2
}
